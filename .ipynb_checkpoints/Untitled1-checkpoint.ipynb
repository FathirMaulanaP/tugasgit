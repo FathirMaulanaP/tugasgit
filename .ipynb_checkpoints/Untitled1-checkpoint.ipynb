{
 "cells": [
  {
   "cell_type": "code",
   "execution_count": 14,
   "id": "c015f376-53a3-4d5d-b619-d36962b0f5d4",
   "metadata": {},
   "outputs": [
    {
     "name": "stdin",
     "output_type": "stream",
     "text": [
      "angka 1: 2\n",
      "angka 2: 0\n",
      "Operator(+,-,*,/): +\n"
     ]
    },
    {
     "name": "stdout",
     "output_type": "stream",
     "text": [
      "Hasil: 2\n",
      "Hasil perhitungan selesai!\n"
     ]
    }
   ],
   "source": [
    "angka1 = int(input('angka 1:'))\n",
    "angka2 = int(input('angka 2:'))\n",
    "operator = input(\"Operator(+,-,*,/):\")\n",
    "hasil = 0\n",
    "\n",
    "try:\n",
    "    if operator == \"+\":\n",
    "        hasil = angka1 + angka2\n",
    "    elif operator ==\"-\":\n",
    "        hasil = angka1 - angka2\n",
    "    elif operator ==\"*\":\n",
    "        hasil = angka1 * angka2\n",
    "    elif operator ==\"/\":\n",
    "        hasil = angka1 / angka2\n",
    "    else:\n",
    "        hasil = \"operator salah!\"\n",
    "except ZeroDivisionError:\n",
    "    print(\"Tidak diperbolehkan pembagian dengan 0\")\n",
    "else:\n",
    "    print(f\"Hasil: {hasil}\")\n",
    "finally:\n",
    "    print(\"Hasil perhitungan selesai!\")"
   ]
  },
  {
   "cell_type": "code",
   "execution_count": 20,
   "id": "f26b2bcd-21a1-497c-9e66-1f3725643765",
   "metadata": {},
   "outputs": [
    {
     "name": "stdin",
     "output_type": "stream",
     "text": [
      "angka 1: 98\n",
      "angka 2: 0\n",
      "Operator(+,-,*,/): *\n"
     ]
    },
    {
     "name": "stdout",
     "output_type": "stream",
     "text": [
      "Hasil: 0\n",
      "Hasil perhitungan selesai!\n"
     ]
    }
   ],
   "source": [
    "angka1 = int(input('angka 1:'))\n",
    "angka2 = int(input('angka 2:'))\n",
    "operator = input(\"Operator(+,-,*,/):\")\n",
    "hasil = 0\n",
    "\n",
    "try:\n",
    "    if operator == \"+\":\n",
    "        hasil = angka1 + angka2\n",
    "    elif operator ==\"-\":\n",
    "        hasil = angka1 - angka2\n",
    "    elif operator ==\"*\":\n",
    "        hasil = angka1 * angka2\n",
    "    elif operator ==\"/\":\n",
    "        hasil = angka1 / angka2\n",
    "    else:\n",
    "        hasil = \"operator salah!\"\n",
    "except (ZeroDivisionError,ValueError) as err:\n",
    "    print(\"Terdapat Kesalahan:\",err)\n",
    "else:\n",
    "    print(f\"Hasil: {hasil}\")\n",
    "finally:\n",
    "    print(\"Hasil perhitungan selesai!\")"
   ]
  },
  {
   "cell_type": "code",
   "execution_count": 54,
   "id": "203e0b8d-8992-47e2-ad7c-cfaf467b4ff4",
   "metadata": {},
   "outputs": [
    {
     "name": "stdin",
     "output_type": "stream",
     "text": [
      "Banyak Data: 2\n",
      "Isikan Nilai Siswa: 90\n",
      "Isikan Nilai Siswa: 88\n",
      "Tampilkan data urutan ke berapa: 1\n"
     ]
    },
    {
     "name": "stdout",
     "output_type": "stream",
     "text": [
      "90\n",
      "Load Data selesai!!\n"
     ]
    }
   ],
   "source": [
    "#IndexError -> LIST\n",
    "data = []\n",
    "try:\n",
    "    jumlahData= int(input(\"Banyak Data:\"))\n",
    "    \n",
    "    for i in range (0,jumlahData):\n",
    "        nilai = int(input(\"Isikan Nilai Siswa:\"))\n",
    "        data.append(nilai)\n",
    "\n",
    "    showData = int(input(\"Tampilkan data urutan ke berapa:\"))\n",
    "    hasil = data[showData-1]\n",
    "except ValueError:\n",
    "    print(\"Input harus angka!!\")\n",
    "except IndexError:\n",
    "    print(\"Data tidak tersedia!!\")\n",
    "else:\n",
    "    print(hasil)\n",
    "finally:\n",
    "    print(\"Load Data selesai!!\")"
   ]
  },
  {
   "cell_type": "code",
   "execution_count": 76,
   "id": "88f9f7bd-7173-434b-b9df-dfd3b2dd0434",
   "metadata": {},
   "outputs": [
    {
     "name": "stdin",
     "output_type": "stream",
     "text": [
      "Isikan Umur: 16\n"
     ]
    },
    {
     "name": "stdout",
     "output_type": "stream",
     "text": [
      "Terjadi kesalahan Umur harus lebih dari 16\n",
      "Cek Umur selesai dikerjakan!!\n"
     ]
    }
   ],
   "source": [
    "#Custom Exception\n",
    "#Tiket Film, umur harus >= 17\n",
    "\n",
    "class UmurException(Exception):\n",
    "    pass\n",
    "\n",
    "def cekUmur(umur):\n",
    "    if umur < 17:\n",
    "        raise UmurException(\"Umur harus lebih dari 16\")\n",
    "\n",
    "try:\n",
    "    umur = int(input(\"Isikan Umur:\"))\n",
    "    cekUmur(umur)\n",
    "except (ValueError,UmurException) as err:\n",
    "    print(\"Terjadi kesalahan\",err)\n",
    "else:\n",
    "    print(\"Umur anda valid\")\n",
    "finally:\n",
    "    print(\"Cek Umur selesai dikerjakan!!\")\n",
    "    "
   ]
  },
  {
   "cell_type": "code",
   "execution_count": 90,
   "id": "d7ecd56a-5182-43c2-be56-e86b5db380d4",
   "metadata": {},
   "outputs": [
    {
     "name": "stdout",
     "output_type": "stream",
     "text": [
      "Kesalahan mengakses nama atribut\n"
     ]
    }
   ],
   "source": [
    "#Data dari database -> dict\n",
    "\n",
    "try:\n",
    "    dataSiswa = {\n",
    "        \"Nim\" : '20240040025',\n",
    "        \"Nama\" : \"Alges Deynaldy Rahman\",\n",
    "        \"Alamat\" : \"Cibadak\" \n",
    "    }\n",
    "    \n",
    "    print(dataSiswa[\"kelas\"])\n",
    "except KeyError:\n",
    "    print(\"Kesalahan mengakses nama atribut\")"
   ]
  },
  {
   "cell_type": "code",
   "execution_count": 96,
   "id": "d1b08cf5-b209-4a32-a763-6a36065b01cc",
   "metadata": {},
   "outputs": [
    {
     "name": "stdout",
     "output_type": "stream",
     "text": [
      "File tidak ditemukan!\n"
     ]
    },
    {
     "ename": "NameError",
     "evalue": "name 'file' is not defined",
     "output_type": "error",
     "traceback": [
      "\u001b[0;31m---------------------------------------------------------------------------\u001b[0m",
      "\u001b[0;31mNameError\u001b[0m                                 Traceback (most recent call last)",
      "Cell \u001b[0;32mIn[96], line 9\u001b[0m\n\u001b[1;32m      7\u001b[0m     \u001b[38;5;28mprint\u001b[39m(konten)\n\u001b[1;32m      8\u001b[0m \u001b[38;5;28;01mfinally\u001b[39;00m:\n\u001b[0;32m----> 9\u001b[0m     file\u001b[38;5;241m.\u001b[39mclose()\n",
      "\u001b[0;31mNameError\u001b[0m: name 'file' is not defined"
     ]
    }
   ],
   "source": [
    "try:\n",
    "    file = open(\"DataLatih.csv\",'r')\n",
    "    konten = file.read()\n",
    "except FileNotFoundError:\n",
    "    print(\"File tidak ditemukan!\")\n",
    "else:\n",
    "    print(konten)\n",
    "finally:\n",
    "    file.close()\n",
    "    "
   ]
  },
  {
   "cell_type": "code",
   "execution_count": 104,
   "id": "f476b4e2-d3e3-4b4e-bcfd-f55314af34ad",
   "metadata": {},
   "outputs": [],
   "source": [
    "try:\n",
    "    with open(\"data.txt\",'' ) as file:\n",
    "        file.write(\"hello apa kabar\\n\")\n",
    "        file.write(\"uas\\n\")\n",
    "except FileNotFoundError:\n",
    "    print(\"file tidak di temukan!\")"
   ]
  },
  {
   "cell_type": "code",
   "execution_count": 128,
   "id": "246d8d07-4521-44e2-a50b-33355745a522",
   "metadata": {},
   "outputs": [
    {
     "name": "stdout",
     "output_type": "stream",
     "text": [
      "=== MENU DATA MAHASISWA ===\n",
      "1. Tambah Data Mahasiswa\n",
      "2. Tampilkan Data Mahasiswa\n",
      "3. Keluar\n"
     ]
    },
    {
     "name": "stdin",
     "output_type": "stream",
     "text": [
      "Pilih menu (1/2/3):  1\n",
      "Masukkan NIM (11 digit):  20240040095\n",
      "Masukkan Nama (minimal 6 karakter):  fathere\n",
      "Masukkan Alamat (minimal 10 karakter):  sukabumiii\n",
      "Masukkan Kelas (TI23 atau TI24):  ti24\n"
     ]
    },
    {
     "name": "stdout",
     "output_type": "stream",
     "text": [
      "Data mahasiswa berhasil ditambahkan!\n",
      "\n",
      "=== MENU DATA MAHASISWA ===\n",
      "1. Tambah Data Mahasiswa\n",
      "2. Tampilkan Data Mahasiswa\n",
      "3. Keluar\n"
     ]
    },
    {
     "name": "stdin",
     "output_type": "stream",
     "text": [
      "Pilih menu (1/2/3):  1\n",
      "Masukkan NIM (11 digit):  20240040096\n",
      "Masukkan Nama (minimal 6 karakter):  algese\n",
      "Masukkan Alamat (minimal 10 karakter):  sukabumiii\n",
      "Masukkan Kelas (TI23 atau TI24):  ti24\n"
     ]
    },
    {
     "name": "stdout",
     "output_type": "stream",
     "text": [
      "Data mahasiswa berhasil ditambahkan!\n",
      "\n",
      "=== MENU DATA MAHASISWA ===\n",
      "1. Tambah Data Mahasiswa\n",
      "2. Tampilkan Data Mahasiswa\n",
      "3. Keluar\n"
     ]
    },
    {
     "name": "stdin",
     "output_type": "stream",
     "text": [
      "Pilih menu (1/2/3):  2\n"
     ]
    },
    {
     "name": "stdout",
     "output_type": "stream",
     "text": [
      "\n",
      "Daftar Mahasiswa:\n",
      "1. NIM: 20240040095 | Nama: fathir | Alamat: sukabumi | Kelas: TI24\n",
      "2. NIM: 20240040096 | Nama: algesed | Alamat: sukabumiii | Kelas: TI24\n",
      "3. NIM: 20240040097 | Nama: sugihi | Alamat: sukabumiii | Kelas: TI24\n",
      "4. NIM: 20240040095 | Nama: fathere | Alamat: sukabumiii | Kelas: TI24\n",
      "5. NIM: 20240040096 | Nama: algese | Alamat: sukabumiii | Kelas: TI24\n",
      "\n",
      "=== MENU DATA MAHASISWA ===\n",
      "1. Tambah Data Mahasiswa\n",
      "2. Tampilkan Data Mahasiswa\n",
      "3. Keluar\n"
     ]
    },
    {
     "name": "stdin",
     "output_type": "stream",
     "text": [
      "Pilih menu (1/2/3):  2\n"
     ]
    },
    {
     "name": "stdout",
     "output_type": "stream",
     "text": [
      "\n",
      "Daftar Mahasiswa:\n",
      "1. NIM: 20240040095 | Nama: fathir | Alamat: sukabumi | Kelas: TI24\n",
      "2. NIM: 20240040096 | Nama: algesed | Alamat: sukabumiii | Kelas: TI24\n",
      "3. NIM: 20240040097 | Nama: sugihi | Alamat: sukabumiii | Kelas: TI24\n",
      "4. NIM: 20240040095 | Nama: fathere | Alamat: sukabumiii | Kelas: TI24\n",
      "5. NIM: 20240040096 | Nama: algese | Alamat: sukabumiii | Kelas: TI24\n",
      "\n",
      "=== MENU DATA MAHASISWA ===\n",
      "1. Tambah Data Mahasiswa\n",
      "2. Tampilkan Data Mahasiswa\n",
      "3. Keluar\n"
     ]
    },
    {
     "name": "stdin",
     "output_type": "stream",
     "text": [
      "Pilih menu (1/2/3):  3\n"
     ]
    },
    {
     "name": "stdout",
     "output_type": "stream",
     "text": [
      "Terima kasih!\n"
     ]
    }
   ],
   "source": [
    "### mahasiswa_list = []\n",
    "\n",
    "def tambah_mahasiswa():\n",
    "    try:\n",
    "        nim = input(\"Masukkan NIM (11 digit): \")\n",
    "        if len(nim) != 11 or not nim.isdigit():\n",
    "            raise ValueError(\"NIM harus terdiri dari 11 digit angka.\")\n",
    "\n",
    "        nama = input(\"Masukkan Nama (minimal 6 karakter): \")\n",
    "        if len(nama) < 6:\n",
    "            raise ValueError(\"Nama harus minimal 6 karakter.\")\n",
    "\n",
    "        alamat = input(\"Masukkan Alamat (minimal 10 karakter): \")\n",
    "        if len(alamat) < 10:\n",
    "            raise ValueError(\"Alamat harus minimal 10 karakter.\")\n",
    "\n",
    "        kelas = input(\"Masukkan Kelas (TI23 atau TI24): \").upper()\n",
    "        if kelas not in ['TI23', 'TI24']:\n",
    "            raise ValueError(\"Kelas hanya boleh 'TI23' atau 'TI24'.\")\n",
    "\n",
    "        mahasiswa = {\n",
    "            'NIM': nim,\n",
    "            'Nama': nama,\n",
    "            'Alamat': alamat,\n",
    "            'Kelas': kelas\n",
    "        }\n",
    "\n",
    "        mahasiswa_list.append(mahasiswa)\n",
    "        print(\"Data mahasiswa berhasil ditambahkan!\\n\")\n",
    "\n",
    "    except ValueError as arr:\n",
    "        print(f\"Input tidak valid: {arr}\\n\")\n",
    "\n",
    "def tampilkan_data():\n",
    "    if not mahasiswa_list:\n",
    "        print(\"Belum ada data mahasiswa.\\n\")\n",
    "        return\n",
    "\n",
    "    print(\"\\nDaftar Mahasiswa:\")\n",
    "    for idx, mhs in enumerate(mahasiswa_list, start=1):\n",
    "        print(f\"{idx}. NIM: {mhs['NIM']} | Nama: {mhs['Nama']} | Alamat: {mhs['Alamat']} | Kelas: {mhs['Kelas']}\")\n",
    "    print()\n",
    "\n",
    "def menu():\n",
    "    while True:\n",
    "        print(\"=== MENU DATA MAHASISWA ===\")\n",
    "        print(\"1. Tambah Data Mahasiswa\")\n",
    "        print(\"2. Tampilkan Data Mahasiswa\")\n",
    "        print(\"3. Keluar\")\n",
    "\n",
    "        pilihan = input(\"Pilih menu (1/2/3): \")\n",
    "\n",
    "        if pilihan == '1':\n",
    "            tambah_mahasiswa()\n",
    "        elif pilihan == '2':\n",
    "            tampilkan_data()\n",
    "        elif pilihan == '3':\n",
    "            print(\"Terima kasih!\")\n",
    "            break\n",
    "        else:\n",
    "            print(\"Pilihan tidak valid. Silakan pilih 1, 2, atau 3.\\n\")\n",
    "\n",
    "\n",
    "menu()"
   ]
  },
  {
   "cell_type": "code",
   "execution_count": null,
   "id": "e1b5fb31-1dc9-4df4-a6d4-1760e99057a9",
   "metadata": {},
   "outputs": [],
   "source": []
  }
 ],
 "metadata": {
  "kernelspec": {
   "display_name": "Python [conda env:base] *",
   "language": "python",
   "name": "conda-base-py"
  },
  "language_info": {
   "codemirror_mode": {
    "name": "ipython",
    "version": 3
   },
   "file_extension": ".py",
   "mimetype": "text/x-python",
   "name": "python",
   "nbconvert_exporter": "python",
   "pygments_lexer": "ipython3",
   "version": "3.12.7"
  }
 },
 "nbformat": 4,
 "nbformat_minor": 5
}
