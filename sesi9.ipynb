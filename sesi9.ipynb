{
 "cells": [
  {
   "cell_type": "code",
   "execution_count": 2,
   "id": "ce5333b0-1b42-4aea-97c8-691d415d5512",
   "metadata": {},
   "outputs": [],
   "source": [
    "import numpy as np"
   ]
  },
  {
   "cell_type": "code",
   "execution_count": 37,
   "id": "0beaf68b-be4b-4ad7-ae78-f2357c4408ab",
   "metadata": {},
   "outputs": [],
   "source": [
    "mat1D = np.array([2,3,4,5,6,7,8,9,10,11])\n",
    "mat2D = np.array([[1,2,3],[4,5,6],[7,8,9]])\n"
   ]
  },
  {
   "cell_type": "code",
   "execution_count": 87,
   "id": "030ef521-9889-407a-bb55-4473002bea55",
   "metadata": {},
   "outputs": [
    {
     "name": "stdout",
     "output_type": "stream",
     "text": [
      "2\n"
     ]
    }
   ],
   "source": [
    "print(mat1D[0])"
   ]
  },
  {
   "cell_type": "code",
   "execution_count": 89,
   "id": "0cbaba8b-0f56-4aa1-b6db-0af152ae3443",
   "metadata": {},
   "outputs": [
    {
     "name": "stdout",
     "output_type": "stream",
     "text": [
      "[ 7  8  9 10 11 12 13 14 15 16]\n"
     ]
    }
   ],
   "source": [
    "print (mat1D + 5)"
   ]
  },
  {
   "cell_type": "code",
   "execution_count": 41,
   "id": "7d5b89cf-a057-45fb-b17f-f07fb7f4c265",
   "metadata": {},
   "outputs": [
    {
     "name": "stdout",
     "output_type": "stream",
     "text": [
      "[1 2 3]\n",
      "[4 5 6]\n",
      "[7 8 9]\n"
     ]
    }
   ],
   "source": [
    "print(mat2D[0])\n",
    "print(mat2D[1])\n",
    "print(mat2D[2])"
   ]
  },
  {
   "cell_type": "code",
   "execution_count": 55,
   "id": "ad8b913e-7480-4a3d-ac59-19984e9b08c3",
   "metadata": {},
   "outputs": [
    {
     "name": "stdout",
     "output_type": "stream",
     "text": [
      "9\n"
     ]
    }
   ],
   "source": [
    "print(mat2D[2][2])"
   ]
  },
  {
   "cell_type": "code",
   "execution_count": 59,
   "id": "4ae7ffa7-0bf9-4219-9e24-741b95cedb5d",
   "metadata": {},
   "outputs": [
    {
     "name": "stdout",
     "output_type": "stream",
     "text": [
      "[[ 5 10 15]\n",
      " [20 25 30]\n",
      " [35 40 45]]\n"
     ]
    }
   ],
   "source": [
    "print(mat2D * 5)"
   ]
  },
  {
   "cell_type": "code",
   "execution_count": 65,
   "id": "885d1099-e658-4817-b663-1eba96293a62",
   "metadata": {},
   "outputs": [
    {
     "name": "stdout",
     "output_type": "stream",
     "text": [
      "(10,)\n",
      "(3, 3)\n"
     ]
    }
   ],
   "source": [
    "print(mat1D.shape)\n",
    "print(mat2D.shape)"
   ]
  },
  {
   "cell_type": "code",
   "execution_count": 83,
   "id": "2c537bf6-2a36-47cb-9da5-b1b15aff46a4",
   "metadata": {},
   "outputs": [
    {
     "name": "stdout",
     "output_type": "stream",
     "text": [
      "10\n",
      "9\n"
     ]
    }
   ],
   "source": [
    "print(mat1D.size)\n",
    "print(mat2D.size)"
   ]
  },
  {
   "cell_type": "code",
   "execution_count": 134,
   "id": "bf702f84-7f8d-45bc-b537-6f4387ea880c",
   "metadata": {},
   "outputs": [],
   "source": [
    "mZero = np.zeros((3,3))\n",
    "mIdentity = np.eye((4))\n",
    "mFull = np.full((4,4,),7)\n",
    "mOne = np.ones((5,4))\n",
    "mRandomFloat = np.random.rand(5,5)\n",
    "mRandomInt = np.random.randint(10,101, size=6)"
   ]
  },
  {
   "cell_type": "code",
   "execution_count": 136,
   "id": "578fd791-a770-46e4-9280-3c0ef6073dbe",
   "metadata": {},
   "outputs": [
    {
     "name": "stdout",
     "output_type": "stream",
     "text": [
      "[[0. 0. 0.]\n",
      " [0. 0. 0.]\n",
      " [0. 0. 0.]]\n"
     ]
    }
   ],
   "source": [
    "print (mZero)"
   ]
  },
  {
   "cell_type": "code",
   "execution_count": 138,
   "id": "72e08f29-65aa-42c0-89ad-267d2da621a2",
   "metadata": {},
   "outputs": [
    {
     "name": "stdout",
     "output_type": "stream",
     "text": [
      "[[1. 0. 0. 0.]\n",
      " [0. 1. 0. 0.]\n",
      " [0. 0. 1. 0.]\n",
      " [0. 0. 0. 1.]]\n"
     ]
    }
   ],
   "source": [
    "print (mIdentity)"
   ]
  },
  {
   "cell_type": "code",
   "execution_count": 140,
   "id": "693478bb-959b-4677-b4d9-b1951ce464bf",
   "metadata": {},
   "outputs": [
    {
     "name": "stdout",
     "output_type": "stream",
     "text": [
      "[[7 7 7 7]\n",
      " [7 7 7 7]\n",
      " [7 7 7 7]\n",
      " [7 7 7 7]]\n"
     ]
    }
   ],
   "source": [
    "print (mFull)"
   ]
  },
  {
   "cell_type": "code",
   "execution_count": 142,
   "id": "486e1309-c026-4d53-a761-634537374711",
   "metadata": {},
   "outputs": [
    {
     "name": "stdout",
     "output_type": "stream",
     "text": [
      "[[1. 1. 1. 1.]\n",
      " [1. 1. 1. 1.]\n",
      " [1. 1. 1. 1.]\n",
      " [1. 1. 1. 1.]\n",
      " [1. 1. 1. 1.]]\n"
     ]
    }
   ],
   "source": [
    "print (mOne)"
   ]
  },
  {
   "cell_type": "code",
   "execution_count": 146,
   "id": "1c76f174-081a-4fcd-abbc-4fc350c3e665",
   "metadata": {},
   "outputs": [
    {
     "name": "stdout",
     "output_type": "stream",
     "text": [
      "[[0.55338544 0.6762306  0.34521466 0.57808456 0.93726014]\n",
      " [0.43790256 0.44607129 0.75964893 0.41245506 0.69564836]\n",
      " [0.71508303 0.37167076 0.33432933 0.18103114 0.58808278]\n",
      " [0.39587003 0.44827482 0.76941102 0.33626713 0.3409481 ]\n",
      " [0.92326184 0.55620596 0.07945883 0.1874114  0.30639026]]\n"
     ]
    }
   ],
   "source": [
    "print (mRandomFloat)"
   ]
  },
  {
   "cell_type": "code",
   "execution_count": 148,
   "id": "45f44114-a382-46dd-9de4-20ad7585b229",
   "metadata": {},
   "outputs": [
    {
     "name": "stdout",
     "output_type": "stream",
     "text": [
      "[64 46 18 43 75 99]\n"
     ]
    }
   ],
   "source": [
    "print (mRandomInt)"
   ]
  },
  {
   "cell_type": "code",
   "execution_count": 172,
   "id": "8c6e2009-e254-42f9-b32a-140afea0a5e6",
   "metadata": {},
   "outputs": [
    {
     "name": "stdout",
     "output_type": "stream",
     "text": [
      "Hasil dari dot Product :65\n",
      "Hasil penjumlahan matrix :[ 3  9 14]\n",
      "Nilai minimum dari [2 6 9]:2\n",
      "Nilai maximal dari [1 3 5]:5\n",
      "Rata-rata Nilai dari [1 3 5]:3.0\n",
      "Nilai median dari [1 3 5]:3.0\n",
      "Nilai Deviasi dari [1 3 5]:1.632993161855452\n"
     ]
    }
   ],
   "source": [
    "x = np.array([2,6,9])\n",
    "y = np.array([1,3,5])\n",
    "\n",
    "dotProduct = np.dot(x,y)\n",
    "addMatrix = np.add(x,y)\n",
    "minValue = np.min(x)\n",
    "maxValue = np.max(y)\n",
    "meanValue = np.mean(y)\n",
    "medianValue = np.median(y)\n",
    "stdValue = np.std(y)\n",
    "print (f\"Hasil dari dot Product :{dotProduct}\")\n",
    "print (f\"Hasil penjumlahan matrix :{addMatrix}\")\n",
    "print (f\"Nilai minimum dari {x}:{minValue}\")\n",
    "print (f\"Nilai maximal dari {y}:{maxValue}\")\n",
    "print (f\"Rata-rata Nilai dari {y}:{meanValue}\")\n",
    "print (f\"Nilai median dari {y}:{medianValue}\")\n",
    "print (f\"Nilai Deviasi dari {y}:{stdValue}\")"
   ]
  },
  {
   "cell_type": "code",
   "execution_count": 178,
   "id": "ee72fab0-d7c4-408d-8a60-df057c27d9f8",
   "metadata": {},
   "outputs": [
    {
     "name": "stdout",
     "output_type": "stream",
     "text": [
      "[[1 2 3]\n",
      " [4 5 6]]\n",
      "<built-in method flatten of numpy.ndarray object at 0x13f945f50>\n"
     ]
    }
   ],
   "source": [
    "myArray = np.array([[1,2,3],[4,5,6]])\n",
    "\n",
    "reshape = myArray.reshape(2,3)\n",
    "flatten = myArray.flatten\n",
    "\n",
    "print(reshape)\n",
    "print(flatten)"
   ]
  },
  {
   "cell_type": "code",
   "execution_count": 186,
   "id": "3c9ee0fc-b066-4bd4-9df7-38820b73382b",
   "metadata": {},
   "outputs": [
    {
     "name": "stdout",
     "output_type": "stream",
     "text": [
      "[90 93]\n",
      "Jumlah siswa yang lulus:2\n"
     ]
    }
   ],
   "source": [
    "#filetering\n",
    "nilaiSiswa = np.array([80,90,60,65,75,93])\n",
    "lulus = nilaiSiswa[nilaiSiswa > 85]\n",
    "jumlah = lulus.size\n",
    "print (lulus)\n",
    "print (f\"Jumlah siswa yang lulus:{jumlah}\")"
   ]
  },
  {
   "cell_type": "code",
   "execution_count": null,
   "id": "23e94ab5-dc4d-4c47-9ce0-2e2cfd32c3aa",
   "metadata": {},
   "outputs": [],
   "source": []
  }
 ],
 "metadata": {
  "kernelspec": {
   "display_name": "Python [conda env:base] *",
   "language": "python",
   "name": "conda-base-py"
  },
  "language_info": {
   "codemirror_mode": {
    "name": "ipython",
    "version": 3
   },
   "file_extension": ".py",
   "mimetype": "text/x-python",
   "name": "python",
   "nbconvert_exporter": "python",
   "pygments_lexer": "ipython3",
   "version": "3.12.7"
  }
 },
 "nbformat": 4,
 "nbformat_minor": 5
}
